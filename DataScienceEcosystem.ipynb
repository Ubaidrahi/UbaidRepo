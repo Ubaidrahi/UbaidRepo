{
 "cells": [
  {
   "cell_type": "markdown",
   "id": "4ff399cc",
   "metadata": {},
   "source": [
    "# Data Science Tools and Ecosystem"
   ]
  },
  {
   "cell_type": "markdown",
   "id": "03096961",
   "metadata": {},
   "source": [
    "### In this notebook, Data Science Tools and Ecosystem are summarized."
   ]
  },
  {
   "cell_type": "markdown",
   "id": "a7eeeaeb",
   "metadata": {},
   "source": [
    "**Objectives:**\n",
    "* Popular Languages for Data Science\n",
    "* Libraries\n",
    "* Data Science Tools"
   ]
  },
  {
   "cell_type": "markdown",
   "id": "5a42f5d0",
   "metadata": {},
   "source": [
    "#### Some of the popular languages that Data Scientists use are:\n",
    "* Python\n",
    "* C++\n",
    "* .Net"
   ]
  },
  {
   "cell_type": "markdown",
   "id": "25c0ebef",
   "metadata": {},
   "source": [
    "#### Some of the commonly used libraries used by Data Scientists include:\n",
    "* Numpy\n",
    "* Scipy\n",
    "* Putorch"
   ]
  },
  {
   "cell_type": "markdown",
   "id": "f53efe5f",
   "metadata": {},
   "source": [
    "|Data Science Tools|\n",
    "|------------------|\n",
    "|Python|\n",
    "|R|\n",
    "|Github|"
   ]
  },
  {
   "cell_type": "markdown",
   "id": "39392a43",
   "metadata": {},
   "source": [
    "### Below are a few examples of evaluating arithmetic expressions in Python"
   ]
  },
  {
   "cell_type": "markdown",
   "id": "efecf00b",
   "metadata": {},
   "source": [
    "This a simple arithmetic expression to mutiply then add integers"
   ]
  },
  {
   "cell_type": "code",
   "execution_count": 4,
   "id": "4cadeae4",
   "metadata": {},
   "outputs": [
    {
     "data": {
      "text/plain": [
       "17"
      ]
     },
     "execution_count": 4,
     "metadata": {},
     "output_type": "execute_result"
    }
   ],
   "source": [
    "(3*4)+5"
   ]
  },
  {
   "cell_type": "markdown",
   "id": "7c4ff425",
   "metadata": {},
   "source": [
    "This will convert 200 minutes to hours by diving by 60"
   ]
  },
  {
   "cell_type": "code",
   "execution_count": 5,
   "id": "3b93fa5a",
   "metadata": {},
   "outputs": [
    {
     "data": {
      "text/plain": [
       "3.3333333333333335"
      ]
     },
     "execution_count": 5,
     "metadata": {},
     "output_type": "execute_result"
    }
   ],
   "source": [
    "200/60"
   ]
  },
  {
   "cell_type": "markdown",
   "id": "2043e59e",
   "metadata": {},
   "source": [
    "## Author\n",
    "Ubaid Ur Rehman"
   ]
  },
  {
   "cell_type": "code",
   "execution_count": null,
   "id": "63904325",
   "metadata": {},
   "outputs": [],
   "source": []
  }
 ],
 "metadata": {
  "kernelspec": {
   "display_name": "Python 3 (ipykernel)",
   "language": "python",
   "name": "python3"
  },
  "language_info": {
   "codemirror_mode": {
    "name": "ipython",
    "version": 3
   },
   "file_extension": ".py",
   "mimetype": "text/x-python",
   "name": "python",
   "nbconvert_exporter": "python",
   "pygments_lexer": "ipython3",
   "version": "3.11.4"
  }
 },
 "nbformat": 4,
 "nbformat_minor": 5
}
